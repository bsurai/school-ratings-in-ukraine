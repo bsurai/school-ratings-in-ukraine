{
 "cells": [
  {
   "cell_type": "code",
   "execution_count": null,
   "metadata": {},
   "outputs": [],
   "source": [
    "import pandas as pd\n",
    "import numpy as np\n",
    "import matplotlib.pyplot as plt\n",
    "\n",
    "pd.set_option('display.max_columns', None)  # Виводити всі колонки\n",
    "pd.set_option('display.width', 1000)        # Збільшити ширину\n",
    "pd.set_option('display.max_colwidth', 150)\n",
    "\n",
    "file_path = 'big_files/Odata2024File.csv'\n",
    "\n",
    "def data_2024(file_path, columns):\n",
    "    df = pd.read_csv(file_path, usecols=columns)\n",
    "\n",
    "    for feature in columns:\n",
    "        df[feature] = df[feature].astype(str).str.replace(',0$', '', regex=True)\n",
    "        df[feature] = pd.to_numeric(df[feature], errors='coerce')\n",
    "        df = df[df[feature] > 0]\n",
    "        df = df.dropna()\n",
    "\n",
    "    return df"
   ]
  },
  {
   "cell_type": "code",
   "execution_count": null,
   "metadata": {},
   "outputs": [],
   "source": [
    "columns = [\n",
    "    'UkrBlockBall100',\n",
    "    'HistBlockBall100',\n",
    "    'MathBlockBall100',\n",
    "    #'PhysBlockBall100',\n",
    "    #'ChemBlockBall100',\n",
    "    #'BioBlockBall100',\n",
    "    #'GeoBlockBall100',\n",
    "    #'EngBlockBall100',\n",
    "    #'FraBlockBall100',\n",
    "    #'DeuBlockBall100',\n",
    "]\n",
    "\n",
    "df = data_2024(file_path, columns)\n",
    "\n",
    "print(df.head())\n",
    "print(df.shape)\n",
    "\n",
    "matrix = df.to_numpy()\n",
    "print(matrix)\n",
    "\n",
    "rank = np.linalg.matrix_rank(matrix)\n",
    "print(f\"Ранг матриці: {rank}\")"
   ]
  },
  {
   "cell_type": "code",
   "execution_count": null,
   "metadata": {},
   "outputs": [],
   "source": [
    "columns = [\n",
    "    'UkrBlockBall100',\n",
    "    'HistBlockBall100',\n",
    "    'MathBlockBall100',\n",
    "    #'PhysBlockBall100',\n",
    "    #'ChemBlockBall100',\n",
    "    #'BioBlockBall100',\n",
    "    #'GeoBlockBall100',\n",
    "    'EngBlockBall100',\n",
    "    #'FraBlockBall100',\n",
    "    #'DeuBlockBall100',\n",
    "]\n",
    "\n",
    "result = 'MathBlockBall100'\n",
    "\n",
    "df = data_2024(file_path, columns)\n",
    "\n",
    "X = df.drop(columns=[result])\n",
    "y = df[[result]]"
   ]
  },
  {
   "cell_type": "code",
   "execution_count": null,
   "metadata": {},
   "outputs": [],
   "source": [
    "column_names = list(df.columns)\n",
    "for column_name in column_names:\n",
    "    print(f\"Обробляю {column_name}\")\n",
    "    x_column = result\n",
    "    y_column = column_name\n",
    "\n",
    "    plt.figure(figsize=(10, 6))\n",
    "    plt.scatter(df[x_column], df[y_column], alpha=0.5)  # alpha для прозорості точок\n",
    "    plt.title(f'Графік {x_column} vs {y_column}')\n",
    "    plt.xlabel(x_column)\n",
    "    plt.ylabel(y_column)\n",
    "    plt.grid(True)\n",
    "    plt.show()"
   ]
  },
  {
   "cell_type": "code",
   "execution_count": null,
   "metadata": {},
   "outputs": [],
   "source": [
    "from sklearn.linear_model import LinearRegression, Ridge, Lasso\n",
    "from sklearn.svm import SVR\n",
    "\n",
    "model = LinearRegression()\n",
    "#model = Ridge(alpha=1.0)\n",
    "#model = Lasso(alpha=0.1)\n",
    "#model = SVR(kernel='linear', C=0.9)\n",
    "\n",
    "model.fit(X, y)\n",
    "\n",
    "coefficients = model.coef_\n",
    "intercept = model.intercept_\n",
    "\n",
    "# Виведення результатів\n",
    "print(\"Матриця ознак (X):\")\n",
    "print(X.head())\n",
    "print(\"\\nВектор відповідей (y):\")\n",
    "print(y.head())\n",
    "\n",
    "print(\"\\nКоефіцієнти лінійної регресії:\", coefficients)\n",
    "print(\"Перехоплення (intercept):\", intercept)"
   ]
  }
 ],
 "metadata": {
  "kernelspec": {
   "display_name": "Python 3",
   "language": "python",
   "name": "python3"
  },
  "language_info": {
   "name": "python",
   "version": "3.10.12"
  }
 },
 "nbformat": 4,
 "nbformat_minor": 2
}
